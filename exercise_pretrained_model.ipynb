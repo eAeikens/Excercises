{
  "nbformat": 4,
  "nbformat_minor": 0,
  "metadata": {
    "colab": {
      "name": "exercise_pretrained_model.ipynb",
      "version": "0.3.2",
      "provenance": [],
      "collapsed_sections": [],
      "include_colab_link": true
    },
    "kernelspec": {
      "display_name": "Python 3",
      "language": "python",
      "name": "python3"
    },
    "language_info": {
      "codemirror_mode": {
        "name": "ipython",
        "version": 3
      },
      "file_extension": ".py",
      "mimetype": "text/x-python",
      "name": "python",
      "nbconvert_exporter": "python",
      "pygments_lexer": "ipython3",
      "version": "3.7.4"
    }
  },
  "cells": [
    {
      "cell_type": "markdown",
      "metadata": {
        "id": "view-in-github",
        "colab_type": "text"
      },
      "source": [
        "<a href=\"https://colab.research.google.com/github/eAeikens/Excercises/blob/master/exercise_pretrained_model.ipynb\" target=\"_parent\"><img src=\"https://colab.research.google.com/assets/colab-badge.svg\" alt=\"Open In Colab\"/></a>"
      ]
    },
    {
      "cell_type": "code",
      "metadata": {
        "colab_type": "code",
        "id": "ZynfVts4La-2",
        "outputId": "bb5c8cf0-a0d6-414f-93a3-7a2b69edddd8",
        "colab": {
          "base_uri": "https://localhost:8080/",
          "height": 54
        }
      },
      "source": [
        "from __future__ import absolute_import, division, print_function, unicode_literals\n",
        "\n",
        "# Prüfe die Tensorflow Installation\n",
        "try:\n",
        "  # %tensorflow_version only exists in Colab.\n",
        "  %tensorflow_version 2.x\n",
        "except Exception:\n",
        "  pass\n",
        "\n",
        "import tensorflow as tf\n",
        "print(\"GPU Available: \", tf.test.is_gpu_available())"
      ],
      "execution_count": 0,
      "outputs": [
        {
          "output_type": "stream",
          "text": [
            "TensorFlow 2.x selected.\n",
            "GPU Available:  False\n"
          ],
          "name": "stdout"
        }
      ]
    },
    {
      "cell_type": "code",
      "metadata": {
        "colab_type": "code",
        "id": "Rfg-RA8hLm7p",
        "outputId": "da4ae180-db44-4187-a8bb-aae7cf19a2f1",
        "colab": {
          "base_uri": "https://localhost:8080/",
          "height": 1000
        }
      },
      "source": [
        "# Benötigt die Tensorflow 2.0 Implementierung der Keras API (Doku: https://keras.io/applications/#vgg16 )\n",
        "from tensorflow.keras.applications.vgg16 import VGG16\n",
        "\n",
        "# Aufgabe: Erstelle eine Instanz von VGG16\n",
        "model = VGG16()\n",
        "\n",
        "model.summary()"
      ],
      "execution_count": 0,
      "outputs": [
        {
          "output_type": "stream",
          "text": [
            "Downloading data from https://github.com/fchollet/deep-learning-models/releases/download/v0.1/vgg16_weights_tf_dim_ordering_tf_kernels.h5\n",
            "553467904/553467096 [==============================] - 25s 0us/step\n",
            "Model: \"vgg16\"\n",
            "_________________________________________________________________\n",
            "Layer (type)                 Output Shape              Param #   \n",
            "=================================================================\n",
            "input_1 (InputLayer)         [(None, 224, 224, 3)]     0         \n",
            "_________________________________________________________________\n",
            "block1_conv1 (Conv2D)        (None, 224, 224, 64)      1792      \n",
            "_________________________________________________________________\n",
            "block1_conv2 (Conv2D)        (None, 224, 224, 64)      36928     \n",
            "_________________________________________________________________\n",
            "block1_pool (MaxPooling2D)   (None, 112, 112, 64)      0         \n",
            "_________________________________________________________________\n",
            "block2_conv1 (Conv2D)        (None, 112, 112, 128)     73856     \n",
            "_________________________________________________________________\n",
            "block2_conv2 (Conv2D)        (None, 112, 112, 128)     147584    \n",
            "_________________________________________________________________\n",
            "block2_pool (MaxPooling2D)   (None, 56, 56, 128)       0         \n",
            "_________________________________________________________________\n",
            "block3_conv1 (Conv2D)        (None, 56, 56, 256)       295168    \n",
            "_________________________________________________________________\n",
            "block3_conv2 (Conv2D)        (None, 56, 56, 256)       590080    \n",
            "_________________________________________________________________\n",
            "block3_conv3 (Conv2D)        (None, 56, 56, 256)       590080    \n",
            "_________________________________________________________________\n",
            "block3_pool (MaxPooling2D)   (None, 28, 28, 256)       0         \n",
            "_________________________________________________________________\n",
            "block4_conv1 (Conv2D)        (None, 28, 28, 512)       1180160   \n",
            "_________________________________________________________________\n",
            "block4_conv2 (Conv2D)        (None, 28, 28, 512)       2359808   \n",
            "_________________________________________________________________\n",
            "block4_conv3 (Conv2D)        (None, 28, 28, 512)       2359808   \n",
            "_________________________________________________________________\n",
            "block4_pool (MaxPooling2D)   (None, 14, 14, 512)       0         \n",
            "_________________________________________________________________\n",
            "block5_conv1 (Conv2D)        (None, 14, 14, 512)       2359808   \n",
            "_________________________________________________________________\n",
            "block5_conv2 (Conv2D)        (None, 14, 14, 512)       2359808   \n",
            "_________________________________________________________________\n",
            "block5_conv3 (Conv2D)        (None, 14, 14, 512)       2359808   \n",
            "_________________________________________________________________\n",
            "block5_pool (MaxPooling2D)   (None, 7, 7, 512)         0         \n",
            "_________________________________________________________________\n",
            "flatten (Flatten)            (None, 25088)             0         \n",
            "_________________________________________________________________\n",
            "fc1 (Dense)                  (None, 4096)              102764544 \n",
            "_________________________________________________________________\n",
            "fc2 (Dense)                  (None, 4096)              16781312  \n",
            "_________________________________________________________________\n",
            "predictions (Dense)          (None, 1000)              4097000   \n",
            "=================================================================\n",
            "Total params: 138,357,544\n",
            "Trainable params: 138,357,544\n",
            "Non-trainable params: 0\n",
            "_________________________________________________________________\n"
          ],
          "name": "stdout"
        }
      ]
    },
    {
      "cell_type": "code",
      "metadata": {
        "colab_type": "code",
        "id": "wRicUmzLnFxV",
        "outputId": "13046469-8122-4024-cb25-89884ff03d91",
        "colab": {
          "base_uri": "https://localhost:8080/",
          "height": 239
        }
      },
      "source": [
        "# Klassifiziere ein Bild\n",
        "# Du kannst entweder ein eigenes Bild hochladen, \n",
        "# oder die Kaffee Tasse herunterladen in dem du die untenstehende Zeile einkommentierst\n",
        "\n",
        "!wget https://3qeqpr26caki16dnhd19sv6by6v-wpengine.netdna-ssl.com/wp-content/uploads/2017/08/Coffee-Mug.jpg \n",
        "  #Ausrufezeichen! bedeutet kein Python Code sondern im Bash auszuführen\n",
        "image_file_name = 'Coffee-Mug.jpg'"
      ],
      "execution_count": 0,
      "outputs": [
        {
          "output_type": "stream",
          "text": [
            "--2019-08-26 14:10:57--  https://3qeqpr26caki16dnhd19sv6by6v-wpengine.netdna-ssl.com/wp-content/uploads/2017/08/Coffee-Mug.jpg\n",
            "Resolving 3qeqpr26caki16dnhd19sv6by6v-wpengine.netdna-ssl.com (3qeqpr26caki16dnhd19sv6by6v-wpengine.netdna-ssl.com)... 108.161.188.224\n",
            "Connecting to 3qeqpr26caki16dnhd19sv6by6v-wpengine.netdna-ssl.com (3qeqpr26caki16dnhd19sv6by6v-wpengine.netdna-ssl.com)|108.161.188.224|:443... connected.\n",
            "HTTP request sent, awaiting response... 200 OK\n",
            "Length: 172498 (168K) [image/jpeg]\n",
            "Saving to: ‘Coffee-Mug.jpg’\n",
            "\n",
            "\rCoffee-Mug.jpg        0%[                    ]       0  --.-KB/s               \rCoffee-Mug.jpg      100%[===================>] 168.46K  --.-KB/s    in 0.03s   \n",
            "\n",
            "2019-08-26 14:10:57 (6.53 MB/s) - ‘Coffee-Mug.jpg’ saved [172498/172498]\n",
            "\n"
          ],
          "name": "stdout"
        }
      ]
    },
    {
      "cell_type": "code",
      "metadata": {
        "colab_type": "code",
        "id": "Crq2zpfDLyrI",
        "outputId": "e7c17e3f-c1cb-4ea9-bc42-db8cfbc1440e",
        "colab": {
          "base_uri": "https://localhost:8080/",
          "height": 239
        }
      },
      "source": [
        "# Bild laden und vorbereiten\n",
        "\n",
        "from keras.preprocessing.image import load_img\n",
        "from keras.preprocessing.image import img_to_array\n",
        "from keras.applications.vgg16 import preprocess_input\n",
        "\n",
        "# Bild aus Datei laden\n",
        "!wget https://images2.minutemediacdn.com/image/upload/c_crop,h_1188,w_2120,x_0,y_227/f_auto,q_auto,w_1100/v1554729678/shape/mentalfloss/58331-istock-479586616.jpg\n",
        "image = load_img('58331-istock-479586616.jpg', target_size=(224, 224))\n",
        "\n",
        "# Bilderpixel in ein numpy array konvertieren\n",
        "image = img_to_array(image)\n",
        "\n",
        "# Bild für das Modell umwandeln\n",
        "image = image.reshape((1, image.shape[0], image.shape[1], image.shape[2]))\n",
        "\n",
        "# prepare the image for the VGG model\n",
        "image = preprocess_input(image)"
      ],
      "execution_count": 0,
      "outputs": [
        {
          "output_type": "stream",
          "text": [
            "--2019-08-26 14:22:15--  https://images2.minutemediacdn.com/image/upload/c_crop,h_1188,w_2120,x_0,y_227/f_auto,q_auto,w_1100/v1554729678/shape/mentalfloss/58331-istock-479586616.jpg\n",
            "Resolving images2.minutemediacdn.com (images2.minutemediacdn.com)... 23.3.170.222\n",
            "Connecting to images2.minutemediacdn.com (images2.minutemediacdn.com)|23.3.170.222|:443... connected.\n",
            "HTTP request sent, awaiting response... 200 OK\n",
            "Length: 50366 (49K) [image/jpeg]\n",
            "Saving to: ‘58331-istock-479586616.jpg.2’\n",
            "\n",
            "\r          58331-ist   0%[                    ]       0  --.-KB/s               \r58331-istock-479586 100%[===================>]  49.19K  --.-KB/s    in 0.02s   \n",
            "\n",
            "2019-08-26 14:22:15 (3.16 MB/s) - ‘58331-istock-479586616.jpg.2’ saved [50366/50366]\n",
            "\n"
          ],
          "name": "stdout"
        }
      ]
    },
    {
      "cell_type": "code",
      "metadata": {
        "colab_type": "code",
        "id": "8133qxb-pEVN",
        "colab": {}
      },
      "source": [
        "# predicte die Wahrscheinlichkeiten für alle Labels\n",
        "predictions = model.predict(image)"
      ],
      "execution_count": 0,
      "outputs": []
    },
    {
      "cell_type": "code",
      "metadata": {
        "colab_type": "code",
        "id": "G8WpCld4pHyl",
        "outputId": "6ac4eb39-a351-44af-885d-91e4d3ecd3e5",
        "colab": {
          "base_uri": "https://localhost:8080/",
          "height": 109
        }
      },
      "source": [
        "from keras.applications.vgg16 import decode_predictions\n",
        "\n",
        "# Konvertiere die Wahrscheinlichkeiten zu Labels und zeige die Top 5 an\n",
        "label = decode_predictions(predictions)\n",
        "for i in range(0,len(label[0])):\n",
        "  l = label[0][i]\n",
        "  print(l[1], l[2])"
      ],
      "execution_count": 0,
      "outputs": [
        {
          "output_type": "stream",
          "text": [
            "toucan 0.99929905\n",
            "hornbill 0.00064372487\n",
            "macaw 5.607997e-05\n",
            "European_gallinule 5.8870535e-07\n",
            "bee_eater 2.1229015e-07\n"
          ],
          "name": "stdout"
        }
      ]
    }
  ]
}