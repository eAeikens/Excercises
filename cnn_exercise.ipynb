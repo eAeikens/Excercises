{
  "nbformat": 4,
  "nbformat_minor": 0,
  "metadata": {
    "accelerator": "GPU",
    "colab": {
      "name": "cnn_exercise.ipynb",
      "version": "0.3.2",
      "provenance": [],
      "private_outputs": true,
      "collapsed_sections": [],
      "include_colab_link": true
    },
    "kernelspec": {
      "display_name": "Python 3",
      "language": "python",
      "name": "python3"
    },
    "language_info": {
      "codemirror_mode": {
        "name": "ipython",
        "version": 3
      },
      "file_extension": ".py",
      "mimetype": "text/x-python",
      "name": "python",
      "nbconvert_exporter": "python",
      "pygments_lexer": "ipython3",
      "version": "3.7.4"
    }
  },
  "cells": [
    {
      "cell_type": "markdown",
      "metadata": {
        "id": "view-in-github",
        "colab_type": "text"
      },
      "source": [
        "<a href=\"https://colab.research.google.com/github/eAeikens/Excercises/blob/master/cnn_exercise.ipynb\" target=\"_parent\"><img src=\"https://colab.research.google.com/assets/colab-badge.svg\" alt=\"Open In Colab\"/></a>"
      ]
    },
    {
      "cell_type": "markdown",
      "metadata": {
        "id": "LlPI2FDGGppS",
        "colab_type": "text"
      },
      "source": [
        "## Übung: Erstelle ein Selbst-Trainiertes Netz"
      ]
    },
    {
      "cell_type": "code",
      "metadata": {
        "colab_type": "code",
        "id": "F2xrwVqVEWJ5",
        "colab": {}
      },
      "source": [
        "# Prüfe die Tensorflow Installation und notwendige Imports\n",
        "try:\n",
        "  # %tensorflow_version only exists in Colab.\n",
        "  %tensorflow_version 2.x  #Zeichen % ist spezifisch für Colab (Colab code) und wird lokal ausgeführt\n",
        "except Exception:\n",
        "  pass\n",
        "\n",
        "import tensorflow as tf\n",
        "from tensorflow.keras import datasets, layers, models\n",
        "import datetime, os\n",
        "print(\"GPU Available: \", tf.test.is_gpu_available())"
      ],
      "execution_count": 0,
      "outputs": []
    },
    {
      "cell_type": "code",
      "metadata": {
        "colab_type": "code",
        "id": "6X7HvfRAqP9u",
        "colab": {}
      },
      "source": [
        "# Vorbereitung für Tensorboard\n",
        "%load_ext tensorboard\n",
        "logdir = os.path.join(\"logs\", datetime.datetime.now().strftime(\"%Y%m%d-%H%M%S\"))\n",
        "tensorboard_callback = tf.keras.callbacks.TensorBoard(logdir, histogram_freq=1)"
      ],
      "execution_count": 0,
      "outputs": []
    },
    {
      "cell_type": "code",
      "metadata": {
        "colab_type": "code",
        "id": "uUzXnMpVT1kX",
        "colab": {}
      },
      "source": [
        "# MNIST Datenset herunterladen (beinhaltet handgeschriebene Ziffern) - ist Bestandteil von Tensorflow\n",
        "\n",
        "(train_images, train_labels), (test_images, test_labels) = tf.keras.datasets.mnist.load_data()\n",
        "\n",
        "\n",
        "# train_images ist vom Typ numpy.ndarray mit shape (60000, 28, 28)\n",
        "print(type(train_images))\n",
        "print(train_images.shape)\n",
        "print(train_images[0][14])"
      ],
      "execution_count": 0,
      "outputs": []
    },
    {
      "cell_type": "code",
      "metadata": {
        "colab_type": "code",
        "id": "JWoEqyMuXFF4",
        "colab": {}
      },
      "source": [
        "# MNIST Datenset für das CNN vorbereiten\n",
        "\n",
        "# reshape fügt eine weitere Dimension hinzu sodass jeder Farbwert nochmal in einem Array gewrappt wird\n",
        "train_images = train_images.reshape((60000, 28, 28, 1))\n",
        "test_images = test_images.reshape((10000, 28, 28, 1))\n",
        "\n",
        "# Die Farbwerte 0-255 (Graustufen) auf Werte zwischen 0 und 1 normalisieren\n",
        "train_images, test_images = train_images / 255.0, test_images / 255.0\n",
        "\n",
        "print(type(train_images))\n",
        "print(train_images.shape)\n",
        "print(train_images[0][14])"
      ],
      "execution_count": 0,
      "outputs": []
    },
    {
      "cell_type": "code",
      "metadata": {
        "colab_type": "code",
        "id": "L9YmGQBQPrdn",
        "colab": {}
      },
      "source": [
        "# Das Basis CNN erstellen\n",
        "# Conv2D(filter, kernel_size): https://keras.io/layers/convolutional/#conv2d\n",
        "# Zur Vereinfachung wird das Sequential model verwendet um Layer hinzuzufügen.\n",
        "# Der erste Layer muss auch die input_shape definieren.\n",
        "\n",
        "model = models.Sequential()\n",
        "model.add(layers.Conv2D(32, (3, 3), activation='relu', input_shape=(28, 28, 1)))\n",
        "model.add(layers.MaxPooling2D((2, 2)))\n",
        "model.add(layers.Conv2D(64, (3, 3), activation='relu'))\n",
        "model.add(layers.MaxPooling2D((2, 2)))\n",
        "model.add(layers.Conv2D(64, (3, 3), activation='relu'))"
      ],
      "execution_count": 0,
      "outputs": []
    },
    {
      "cell_type": "code",
      "metadata": {
        "colab_type": "code",
        "id": "8-C4XBg4UTJy",
        "colab": {}
      },
      "source": [
        "model.summary()"
      ],
      "execution_count": 0,
      "outputs": []
    },
    {
      "cell_type": "code",
      "metadata": {
        "colab_type": "code",
        "id": "mRs95d6LUVEi",
        "colab": {}
      },
      "source": [
        "# Layers für die Klassifizierung hinzufügen\n",
        "\n",
        "# Füge einen Flatten Layer hinzu\n",
        "model.add(layers.Flatten())\n",
        "\n",
        "model.add(layers.Dense(64, activation='relu'))\n",
        "model.add(layers.Dense(10, activation='softmax'))"
      ],
      "execution_count": 0,
      "outputs": []
    },
    {
      "cell_type": "code",
      "metadata": {
        "colab_type": "code",
        "id": "8Yu_m-TZUWGX",
        "colab": {}
      },
      "source": [
        "model.summary()"
      ],
      "execution_count": 0,
      "outputs": []
    },
    {
      "cell_type": "code",
      "metadata": {
        "colab_type": "code",
        "id": "MdDzI75PUXrG",
        "colab": {}
      },
      "source": [
        "# Model kompilieren\n",
        "model.compile(optimizer='adam',\n",
        "              loss='sparse_categorical_crossentropy',\n",
        "              metrics=['accuracy'])\n",
        "\n",
        "# Model trainieren\n",
        "model.fit(    \n",
        "    x=train_images,\n",
        "    y=train_labels,\n",
        "    batch_size=None,\n",
        "    epochs=3,\n",
        "    verbose=1,\n",
        "    callbacks=[tensorboard_callback],\n",
        "    validation_split=0.0,\n",
        "    validation_data=(train_images,train_labels),\n",
        "    shuffle=True,\n",
        "    class_weight=None,\n",
        "    sample_weight=None,\n",
        "    initial_epoch=0,\n",
        "    steps_per_epoch=None,\n",
        "    validation_steps=None,\n",
        "    validation_freq=1,\n",
        "    max_queue_size=10,\n",
        "    workers=1,\n",
        "    use_multiprocessing=False)"
      ],
      "execution_count": 0,
      "outputs": []
    },
    {
      "cell_type": "code",
      "metadata": {
        "colab_type": "code",
        "id": "gtyDF0MKUcM7",
        "colab": {}
      },
      "source": [
        "# Das Model evaluieren\n",
        "test_loss, test_acc = model.evaluate(\n",
        "    x=train_images,\n",
        "    y=train_labels,\n",
        "    batch_size=None,\n",
        "    verbose=1,\n",
        "    sample_weight=None,\n",
        "    steps=None,\n",
        "    callbacks=None,\n",
        "    max_queue_size=10,\n",
        "    workers=1,\n",
        "    use_multiprocessing=False\n",
        ")\n"
      ],
      "execution_count": 0,
      "outputs": []
    },
    {
      "cell_type": "code",
      "metadata": {
        "colab_type": "code",
        "id": "0LvwaKhtUdOo",
        "colab": {}
      },
      "source": [
        "print(test_acc)"
      ],
      "execution_count": 0,
      "outputs": []
    },
    {
      "cell_type": "markdown",
      "metadata": {
        "id": "E57fggaiGprG",
        "colab_type": "text"
      },
      "source": [
        "## Model exportieren/importieren"
      ]
    },
    {
      "cell_type": "code",
      "metadata": {
        "colab_type": "code",
        "id": "uq2JG44mP1oy",
        "colab": {}
      },
      "source": [
        "# Exportiere das Modell im HDF5 Format, lies es anschliessend wieder ein und prüfe ob es funktioniert\n",
        "model.save(filepath = 'modelML.h5')\n",
        "myModel = models.load_model('modelML.h5')"
      ],
      "execution_count": 0,
      "outputs": []
    },
    {
      "cell_type": "markdown",
      "metadata": {
        "id": "HXNfs9z9GprP",
        "colab_type": "text"
      },
      "source": [
        "## Tensorboard ausprobieren"
      ]
    },
    {
      "cell_type": "code",
      "metadata": {
        "colab_type": "code",
        "id": "fAjH5r5_rsKQ",
        "colab": {}
      },
      "source": [
        "# Tensorboard starten\n",
        "\n",
        "%tensorboard --logdir logs"
      ],
      "execution_count": 0,
      "outputs": []
    },
    {
      "cell_type": "markdown",
      "metadata": {
        "id": "Ah5f8d7uN5AC",
        "colab_type": "text"
      },
      "source": [
        "\n",
        "\n",
        "\n",
        "**CNN ausprobieren**\n",
        "\n"
      ]
    },
    {
      "cell_type": "code",
      "metadata": {
        "id": "NNGFjFITOCUg",
        "colab_type": "code",
        "colab": {}
      },
      "source": [
        "#from keras.preprocessing.image import load_img\n",
        "#from keras.preprocessing.image import img_to_array\n",
        "#from keras.applications.vgg16 import preprocess_input\n",
        "\n",
        "#!wget http://www.joemckaystudio.com/images/numbers.jpg \n",
        "#image = load_img('numbers.jpg', target_size=(28, 28))\n"
      ],
      "execution_count": 0,
      "outputs": []
    },
    {
      "cell_type": "code",
      "metadata": {
        "id": "YdHg2OMDVlmx",
        "colab_type": "code",
        "colab": {}
      },
      "source": [
        "#image = img_to_array(image)\n",
        "#image = image.reshape(( 1,28,28,1))\n",
        "\n",
        "#image = preprocess_input(image)\n",
        "#predictions = model.predict(image)"
      ],
      "execution_count": 0,
      "outputs": []
    }
  ]
}